{
 "cells": [
  {
   "cell_type": "code",
   "execution_count": null,
   "metadata": {},
   "outputs": [],
   "source": [
    "import pandas as pd \n",
    "data=pd.read_csv(r\"C:\\Users\\anit4\\OneDrive\\Desktop\\Book2.csv\")\n",
    "print(data)"
   ]
  },
  {
   "cell_type": "code",
   "execution_count": null,
   "metadata": {},
   "outputs": [],
   "source": [
    "a=data['salary'].idxmax()\n",
    "print(data.loc[a,['name','age']])"
   ]
  },
  {
   "cell_type": "code",
   "execution_count": null,
   "metadata": {},
   "outputs": [],
   "source": [
    "print(data.head(2))\n",
    "print(data.tail(2))"
   ]
  },
  {
   "cell_type": "code",
   "execution_count": null,
   "metadata": {},
   "outputs": [],
   "source": [
    "#read excel file\n",
    "import pandas as pd\n",
    "exl=pd.read_excel(r\"C:\\Users\\anit4\\OneDrive\\Desktop\\data_sheet.xlsx\")\n",
    "print(exl)"
   ]
  },
  {
   "cell_type": "code",
   "execution_count": null,
   "metadata": {},
   "outputs": [],
   "source": [
    "print(exl.head())\n",
    "print(exl.tail(3))"
   ]
  },
  {
   "cell_type": "code",
   "execution_count": null,
   "metadata": {},
   "outputs": [],
   "source": [
    "data=pd.read_csv(r\"C:\\Users\\anit4\\OneDrive\\Desktop\\Book2.csv\",index_col='name')\n",
    "print(data)"
   ]
  },
  {
   "cell_type": "code",
   "execution_count": null,
   "metadata": {},
   "outputs": [],
   "source": [
    "print(data[\"age\"])\n",
    "print(data[data['age']==18])"
   ]
  },
  {
   "cell_type": "code",
   "execution_count": null,
   "metadata": {},
   "outputs": [],
   "source": [
    "print(data.loc['anit'])\n",
    "print(data.ndim)\n",
    "print(data.iloc[2])\n",
    "d=data.reset_index()\n",
    "print(d)"
   ]
  },
  {
   "cell_type": "code",
   "execution_count": null,
   "metadata": {},
   "outputs": [],
   "source": [
    "print(d[['name','age']])\n",
    "print(d[1:3])"
   ]
  },
  {
   "cell_type": "markdown",
   "metadata": {},
   "source": [
    "insert() : in this method we can add new column in our desired location(it changes the original dataframe)\n",
    "assign() : in this method we can add new columns at the end(it returns a new set of dataframe dont modify the original dataframe)\n",
    "dataframename.insert(loc,columnname,dataofthe newcolumn)\n",
    "dataframename.assign(columnname=[data])"
   ]
  },
  {
   "cell_type": "code",
   "execution_count": null,
   "metadata": {},
   "outputs": [],
   "source": [
    "#add new columns\n",
    "d.insert(2,'rank',[1,5,2,3,4,2,0])\n",
    "print(d)"
   ]
  },
  {
   "cell_type": "code",
   "execution_count": null,
   "metadata": {},
   "outputs": [],
   "source": [
    "s=d.assign(address=['india','australia','argentina','brasil','england','srilanka','china'])\n",
    "print(s)"
   ]
  },
  {
   "cell_type": "code",
   "execution_count": null,
   "metadata": {},
   "outputs": [],
   "source": [
    "#drop a column\n",
    "#we can set axis =1 or axis=column\n",
    "s=s.drop('rank',axis='columns')\n",
    "print(s)"
   ]
  },
  {
   "cell_type": "code",
   "execution_count": null,
   "metadata": {},
   "outputs": [],
   "source": [
    "#drop a row\n",
    "#we can use axis=0 or axis='index'\n",
    "#here 2 is level or index\n",
    "s=s.drop(2,axis=0)\n",
    "print(s)"
   ]
  },
  {
   "cell_type": "markdown",
   "metadata": {},
   "source": [
    "to iterate over rows and columns\n",
    "iterrows\n",
    "itertuples"
   ]
  },
  {
   "cell_type": "code",
   "execution_count": null,
   "metadata": {},
   "outputs": [],
   "source": [
    "#iterate over rows\n",
    "for row in s.iterrows():\n",
    "    print(row)\n",
    "for col in s.itertuples():\n",
    "    print(col) "
   ]
  },
  {
   "cell_type": "code",
   "execution_count": null,
   "metadata": {},
   "outputs": [],
   "source": [
    "#iter over columns\n",
    "for i in s.items():\n",
    "    print(i[0])"
   ]
  },
  {
   "cell_type": "code",
   "execution_count": null,
   "metadata": {},
   "outputs": [],
   "source": [
    "#sort the data \n",
    "s.sort_values(by=['salary']) #sort in ascending order on the basis of salary"
   ]
  },
  {
   "cell_type": "code",
   "execution_count": null,
   "metadata": {},
   "outputs": [],
   "source": [
    "s.sort_values(by=['salary'],ascending=False) #sort in dsc order"
   ]
  },
  {
   "cell_type": "markdown",
   "metadata": {},
   "source": [
    "handle duplicates in pandas\n",
    "duplicated()->find duplicates\n",
    "drop_duplicates()->remove duplicates"
   ]
  },
  {
   "cell_type": "code",
   "execution_count": null,
   "metadata": {},
   "outputs": [],
   "source": [
    "new_row = pd.DataFrame({'name': ['Anit'], 'age': [18], 'profession': ['doctor'], 'salary': [18000], 'address': ['India']})\n",
    "\n",
    "# Concatenate the new row to the original DataFrame\n",
    "s = pd.concat([s, new_row], ignore_index=True)\n",
    "\n",
    "print(s)"
   ]
  },
  {
   "cell_type": "code",
   "execution_count": null,
   "metadata": {},
   "outputs": [],
   "source": [
    "print(s.duplicated(subset='name')) #find duplicate name is present or not"
   ]
  },
  {
   "cell_type": "code",
   "execution_count": null,
   "metadata": {},
   "outputs": [],
   "source": [
    "res=s.drop_duplicates(subset='name')\n",
    "print(res)"
   ]
  },
  {
   "cell_type": "markdown",
   "metadata": {},
   "source": [
    "#cleaning of data\n",
    "1. isnull() : find the null values and replace them with true\n",
    "2. notnull() : find the not null values and replace them with true\n",
    "3. df.dropna() : drop rows with null values\n",
    "4. df.fillna(x) : replace null value with a specific value"
   ]
  },
  {
   "cell_type": "code",
   "execution_count": null,
   "metadata": {},
   "outputs": [],
   "source": [
    "import pandas as pd\n",
    "df=pd.read_csv(r\"C:\\Users\\anit4\\OneDrive\\Desktop\\Book2.csv\")\n",
    "print(df)"
   ]
  },
  {
   "cell_type": "code",
   "execution_count": null,
   "metadata": {},
   "outputs": [],
   "source": [
    "df.isnull()"
   ]
  },
  {
   "cell_type": "code",
   "execution_count": null,
   "metadata": {},
   "outputs": [],
   "source": [
    "df.notnull()"
   ]
  },
  {
   "cell_type": "code",
   "execution_count": null,
   "metadata": {},
   "outputs": [],
   "source": [
    "data=df.dropna()\n",
    "print(data)"
   ]
  },
  {
   "cell_type": "code",
   "execution_count": null,
   "metadata": {},
   "outputs": [],
   "source": [
    "data=df.fillna(500)"
   ]
  },
  {
   "cell_type": "code",
   "execution_count": null,
   "metadata": {},
   "outputs": [],
   "source": [
    "print(data)"
   ]
  },
  {
   "cell_type": "markdown",
   "metadata": {},
   "source": [
    "# string operation on text data\n",
    "# lower() : perform lower case on text data\n",
    "# upper() : perform uppercase on text data\n",
    "# title() : perform camel case on text data\n",
    "# len() : to get the length of each element\n",
    "# count() : count the nonempty cells for each column and rows\n",
    "# contains() : search for a value in column"
   ]
  },
  {
   "cell_type": "code",
   "execution_count": null,
   "metadata": {},
   "outputs": [],
   "source": [
    "for i in data.itertuples():\n",
    "    a=i.name\n",
    "    print(a.upper())\n",
    "    print(len(i.name))\n",
    "print(data['name'].str.contains(\"anit\"))\n",
    "\n"
   ]
  }
 ],
 "metadata": {
  "kernelspec": {
   "display_name": "Python 3",
   "language": "python",
   "name": "python3"
  },
  "language_info": {
   "codemirror_mode": {
    "name": "ipython",
    "version": 3
   },
   "file_extension": ".py",
   "mimetype": "text/x-python",
   "name": "python",
   "nbconvert_exporter": "python",
   "pygments_lexer": "ipython3",
   "version": "3.12.2"
  }
 },
 "nbformat": 4,
 "nbformat_minor": 2
}
