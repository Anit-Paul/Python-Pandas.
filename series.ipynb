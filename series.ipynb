{
 "cells": [
  {
   "cell_type": "markdown",
   "metadata": {},
   "source": [
    "A Series in Pandas is a one-dimensional labeled array capable of holding any data type (integers, strings, floating-point numbers, Python objects, etc.). Each element in a Series is associated with an index, which allows for fast and easy data alignment and retrieval. It can be thought of as a column in a DataFrame or as a dictionary where the keys are the index values."
   ]
  },
  {
   "cell_type": "code",
   "execution_count": 3,
   "metadata": {},
   "outputs": [
    {
     "name": "stdout",
     "output_type": "stream",
     "text": [
      "1     anit\n",
      "2    rahul\n",
      "3    rohan\n",
      "4    sahil\n",
      "dtype: object\n"
     ]
    }
   ],
   "source": [
    "import pandas as pd\n",
    "data=['anit','rahul','rohan','sahil']\n",
    "s=pd.Series(data,index=[1,2,3,4])\n",
    "print(s)"
   ]
  },
  {
   "cell_type": "code",
   "execution_count": 4,
   "metadata": {},
   "outputs": [
    {
     "name": "stdout",
     "output_type": "stream",
     "text": [
      "rahul\n"
     ]
    }
   ],
   "source": [
    "print(s[2])"
   ]
  },
  {
   "cell_type": "code",
   "execution_count": 9,
   "metadata": {},
   "outputs": [
    {
     "name": "stdout",
     "output_type": "stream",
     "text": [
      "object\n",
      "1\n",
      "4\n",
      "<bound method Series.info of 1     anit\n",
      "2    rahul\n",
      "3    rohan\n",
      "4    sahil\n",
      "dtype: object>\n"
     ]
    }
   ],
   "source": [
    "print(s.dtype)\n",
    "print(s.ndim)\n",
    "print(s.size)\n",
    "print(s.info)"
   ]
  },
  {
   "cell_type": "code",
   "execution_count": 12,
   "metadata": {},
   "outputs": [
    {
     "name": "stdout",
     "output_type": "stream",
     "text": [
      "0     anit\n",
      "1    rahul\n",
      "2    rohan\n",
      "3    sahil\n",
      "Name: random, dtype: object\n",
      "False\n"
     ]
    }
   ],
   "source": [
    "#set the name of a series\n",
    "s=pd.Series(data,name='random')\n",
    "print(s)\n",
    "print(s.hasnans)"
   ]
  },
  {
   "cell_type": "code",
   "execution_count": 13,
   "metadata": {},
   "outputs": [
    {
     "name": "stdout",
     "output_type": "stream",
     "text": [
      "RangeIndex(start=0, stop=4, step=1)\n"
     ]
    }
   ],
   "source": [
    "print(s.index)"
   ]
  },
  {
   "cell_type": "code",
   "execution_count": 14,
   "metadata": {},
   "outputs": [
    {
     "name": "stdout",
     "output_type": "stream",
     "text": [
      "0     anit\n",
      "1    rahul\n",
      "2    rohan\n",
      "3    sahil\n",
      "Name: random, dtype: object\n",
      "2    rohan\n",
      "3    sahil\n",
      "Name: random, dtype: object\n"
     ]
    }
   ],
   "source": [
    "print(s.head(5))\n",
    "print(s.tail(2))"
   ]
  },
  {
   "cell_type": "code",
   "execution_count": 15,
   "metadata": {},
   "outputs": [
    {
     "name": "stdout",
     "output_type": "stream",
     "text": [
      "<bound method Series.info of 0     anit\n",
      "1    rahul\n",
      "2    rohan\n",
      "3    sahil\n",
      "Name: random, dtype: object>\n"
     ]
    }
   ],
   "source": [
    "print(s.info)"
   ]
  },
  {
   "cell_type": "code",
   "execution_count": 18,
   "metadata": {},
   "outputs": [
    {
     "name": "stdout",
     "output_type": "stream",
     "text": [
      "0      1\n",
      "1     12\n",
      "2     20\n",
      "3     58\n",
      "4    100\n",
      "5     32\n",
      "dtype: int64\n"
     ]
    }
   ],
   "source": [
    "#combine two data series\n",
    "data1=[1,10,20,58,1,32]\n",
    "data2=[0,12,5,20,100,4]\n",
    "s1=pd.Series(data1)\n",
    "s2=pd.Series(data2)\n",
    "def demo(a,b):\n",
    "    if(a>b):\n",
    "        return a\n",
    "    else:\n",
    "        return b\n",
    "res=s1.combine(s2,demo) #demo is the check function\n",
    "print(res)"
   ]
  },
  {
   "cell_type": "code",
   "execution_count": 19,
   "metadata": {},
   "outputs": [
    {
     "name": "stdout",
     "output_type": "stream",
     "text": [
      "0     apple\n",
      "1    banana\n",
      "2     mango\n",
      "3     lichi\n",
      "4     apple\n",
      "5    banana\n",
      "6     mango\n",
      "7     lichi\n",
      "dtype: category\n",
      "Categories (4, object): ['apple', 'banana', 'lichi', 'mango']\n"
     ]
    }
   ],
   "source": [
    "import pandas as pd\n",
    "l=['apple','banana','mango','lichi','apple','banana','mango','lichi']\n",
    "sr=pd.Series(l,dtype='category')\n",
    "print(sr)"
   ]
  },
  {
   "cell_type": "code",
   "execution_count": 23,
   "metadata": {},
   "outputs": [
    {
     "name": "stdout",
     "output_type": "stream",
     "text": [
      "0     apple\n",
      "1    banana\n",
      "2     mango\n",
      "3     lichi\n",
      "4     apple\n",
      "5    banana\n",
      "6     mango\n",
      "7     lichi\n",
      "dtype: category\n",
      "Categories (5, object): ['apple', 'banana', 'lichi', 'mango', 'royal']\n"
     ]
    }
   ],
   "source": [
    "#add a category\n",
    "c=sr.cat.add_categories(\"royal\")\n",
    "print(c)"
   ]
  },
  {
   "cell_type": "code",
   "execution_count": 24,
   "metadata": {},
   "outputs": [
    {
     "name": "stdout",
     "output_type": "stream",
     "text": [
      "0       NaN\n",
      "1    banana\n",
      "2     mango\n",
      "3     lichi\n",
      "4       NaN\n",
      "5    banana\n",
      "6     mango\n",
      "7     lichi\n",
      "dtype: category\n",
      "Categories (4, object): ['banana', 'lichi', 'mango', 'royal']\n"
     ]
    }
   ],
   "source": [
    "#remove a categoey\n",
    "c=c.cat.remove_categories(\"apple\")\n",
    "print(c)"
   ]
  }
 ],
 "metadata": {
  "kernelspec": {
   "display_name": "Python 3",
   "language": "python",
   "name": "python3"
  },
  "language_info": {
   "codemirror_mode": {
    "name": "ipython",
    "version": 3
   },
   "file_extension": ".py",
   "mimetype": "text/x-python",
   "name": "python",
   "nbconvert_exporter": "python",
   "pygments_lexer": "ipython3",
   "version": "3.12.2"
  }
 },
 "nbformat": 4,
 "nbformat_minor": 2
}
